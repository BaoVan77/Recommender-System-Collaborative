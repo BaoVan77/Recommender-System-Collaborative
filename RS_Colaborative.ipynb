{
 "cells": [
  {
   "cell_type": "code",
   "execution_count": 53,
   "id": "a5858912",
   "metadata": {},
   "outputs": [],
   "source": [
    "import pandas as pd\n",
    "import numpy as np\n",
    "from sklearn.model_selection import train_test_split\n",
    "from sklearn.metrics.pairwise import cosine_similarity\n",
    "from sklearn.metrics import mean_squared_error\n",
    "from math import sqrt\n",
    "import matplotlib.pyplot as plt\n",
    "from scipy import sparse"
   ]
  },
  {
   "cell_type": "code",
   "execution_count": 22,
   "id": "3fc0b419",
   "metadata": {
    "scrolled": true
   },
   "outputs": [
    {
     "data": {
      "text/html": [
       "<div>\n",
       "<style scoped>\n",
       "    .dataframe tbody tr th:only-of-type {\n",
       "        vertical-align: middle;\n",
       "    }\n",
       "\n",
       "    .dataframe tbody tr th {\n",
       "        vertical-align: top;\n",
       "    }\n",
       "\n",
       "    .dataframe thead th {\n",
       "        text-align: right;\n",
       "    }\n",
       "</style>\n",
       "<table border=\"1\" class=\"dataframe\">\n",
       "  <thead>\n",
       "    <tr style=\"text-align: right;\">\n",
       "      <th></th>\n",
       "      <th>movie_id</th>\n",
       "      <th>movie_title</th>\n",
       "      <th>release date</th>\n",
       "      <th>video release date</th>\n",
       "      <th>IMDb URL</th>\n",
       "      <th>unknown</th>\n",
       "      <th>Action</th>\n",
       "      <th>Adventure</th>\n",
       "      <th>Animation</th>\n",
       "      <th>Children's</th>\n",
       "      <th>...</th>\n",
       "      <th>Fantasy</th>\n",
       "      <th>Film-Noir</th>\n",
       "      <th>Horror</th>\n",
       "      <th>Musical</th>\n",
       "      <th>Mystery</th>\n",
       "      <th>Romance</th>\n",
       "      <th>Sci-Fi</th>\n",
       "      <th>Thriller</th>\n",
       "      <th>War</th>\n",
       "      <th>Western</th>\n",
       "    </tr>\n",
       "  </thead>\n",
       "  <tbody>\n",
       "    <tr>\n",
       "      <th>0</th>\n",
       "      <td>1</td>\n",
       "      <td>Toy Story (1995)</td>\n",
       "      <td>01-Jan-1995</td>\n",
       "      <td>NaN</td>\n",
       "      <td>http://us.imdb.com/M/title-exact?Toy%20Story%2...</td>\n",
       "      <td>0</td>\n",
       "      <td>0</td>\n",
       "      <td>0</td>\n",
       "      <td>1</td>\n",
       "      <td>1</td>\n",
       "      <td>...</td>\n",
       "      <td>0</td>\n",
       "      <td>0</td>\n",
       "      <td>0</td>\n",
       "      <td>0</td>\n",
       "      <td>0</td>\n",
       "      <td>0</td>\n",
       "      <td>0</td>\n",
       "      <td>0</td>\n",
       "      <td>0</td>\n",
       "      <td>0</td>\n",
       "    </tr>\n",
       "    <tr>\n",
       "      <th>1</th>\n",
       "      <td>2</td>\n",
       "      <td>GoldenEye (1995)</td>\n",
       "      <td>01-Jan-1995</td>\n",
       "      <td>NaN</td>\n",
       "      <td>http://us.imdb.com/M/title-exact?GoldenEye%20(...</td>\n",
       "      <td>0</td>\n",
       "      <td>1</td>\n",
       "      <td>1</td>\n",
       "      <td>0</td>\n",
       "      <td>0</td>\n",
       "      <td>...</td>\n",
       "      <td>0</td>\n",
       "      <td>0</td>\n",
       "      <td>0</td>\n",
       "      <td>0</td>\n",
       "      <td>0</td>\n",
       "      <td>0</td>\n",
       "      <td>0</td>\n",
       "      <td>1</td>\n",
       "      <td>0</td>\n",
       "      <td>0</td>\n",
       "    </tr>\n",
       "    <tr>\n",
       "      <th>2</th>\n",
       "      <td>3</td>\n",
       "      <td>Four Rooms (1995)</td>\n",
       "      <td>01-Jan-1995</td>\n",
       "      <td>NaN</td>\n",
       "      <td>http://us.imdb.com/M/title-exact?Four%20Rooms%...</td>\n",
       "      <td>0</td>\n",
       "      <td>0</td>\n",
       "      <td>0</td>\n",
       "      <td>0</td>\n",
       "      <td>0</td>\n",
       "      <td>...</td>\n",
       "      <td>0</td>\n",
       "      <td>0</td>\n",
       "      <td>0</td>\n",
       "      <td>0</td>\n",
       "      <td>0</td>\n",
       "      <td>0</td>\n",
       "      <td>0</td>\n",
       "      <td>1</td>\n",
       "      <td>0</td>\n",
       "      <td>0</td>\n",
       "    </tr>\n",
       "    <tr>\n",
       "      <th>3</th>\n",
       "      <td>4</td>\n",
       "      <td>Get Shorty (1995)</td>\n",
       "      <td>01-Jan-1995</td>\n",
       "      <td>NaN</td>\n",
       "      <td>http://us.imdb.com/M/title-exact?Get%20Shorty%...</td>\n",
       "      <td>0</td>\n",
       "      <td>1</td>\n",
       "      <td>0</td>\n",
       "      <td>0</td>\n",
       "      <td>0</td>\n",
       "      <td>...</td>\n",
       "      <td>0</td>\n",
       "      <td>0</td>\n",
       "      <td>0</td>\n",
       "      <td>0</td>\n",
       "      <td>0</td>\n",
       "      <td>0</td>\n",
       "      <td>0</td>\n",
       "      <td>0</td>\n",
       "      <td>0</td>\n",
       "      <td>0</td>\n",
       "    </tr>\n",
       "    <tr>\n",
       "      <th>4</th>\n",
       "      <td>5</td>\n",
       "      <td>Copycat (1995)</td>\n",
       "      <td>01-Jan-1995</td>\n",
       "      <td>NaN</td>\n",
       "      <td>http://us.imdb.com/M/title-exact?Copycat%20(1995)</td>\n",
       "      <td>0</td>\n",
       "      <td>0</td>\n",
       "      <td>0</td>\n",
       "      <td>0</td>\n",
       "      <td>0</td>\n",
       "      <td>...</td>\n",
       "      <td>0</td>\n",
       "      <td>0</td>\n",
       "      <td>0</td>\n",
       "      <td>0</td>\n",
       "      <td>0</td>\n",
       "      <td>0</td>\n",
       "      <td>0</td>\n",
       "      <td>1</td>\n",
       "      <td>0</td>\n",
       "      <td>0</td>\n",
       "    </tr>\n",
       "  </tbody>\n",
       "</table>\n",
       "<p>5 rows × 24 columns</p>\n",
       "</div>"
      ],
      "text/plain": [
       "   movie_id        movie_title release date  video release date  \\\n",
       "0         1   Toy Story (1995)  01-Jan-1995                 NaN   \n",
       "1         2   GoldenEye (1995)  01-Jan-1995                 NaN   \n",
       "2         3  Four Rooms (1995)  01-Jan-1995                 NaN   \n",
       "3         4  Get Shorty (1995)  01-Jan-1995                 NaN   \n",
       "4         5     Copycat (1995)  01-Jan-1995                 NaN   \n",
       "\n",
       "                                            IMDb URL  unknown  Action  \\\n",
       "0  http://us.imdb.com/M/title-exact?Toy%20Story%2...        0       0   \n",
       "1  http://us.imdb.com/M/title-exact?GoldenEye%20(...        0       1   \n",
       "2  http://us.imdb.com/M/title-exact?Four%20Rooms%...        0       0   \n",
       "3  http://us.imdb.com/M/title-exact?Get%20Shorty%...        0       1   \n",
       "4  http://us.imdb.com/M/title-exact?Copycat%20(1995)        0       0   \n",
       "\n",
       "   Adventure  Animation  Children's  ...  Fantasy  Film-Noir  Horror  Musical  \\\n",
       "0          0          1           1  ...        0          0       0        0   \n",
       "1          1          0           0  ...        0          0       0        0   \n",
       "2          0          0           0  ...        0          0       0        0   \n",
       "3          0          0           0  ...        0          0       0        0   \n",
       "4          0          0           0  ...        0          0       0        0   \n",
       "\n",
       "   Mystery  Romance  Sci-Fi  Thriller  War  Western  \n",
       "0        0        0       0         0    0        0  \n",
       "1        0        0       0         1    0        0  \n",
       "2        0        0       0         1    0        0  \n",
       "3        0        0       0         0    0        0  \n",
       "4        0        0       0         1    0        0  \n",
       "\n",
       "[5 rows x 24 columns]"
      ]
     },
     "execution_count": 22,
     "metadata": {},
     "output_type": "execute_result"
    }
   ],
   "source": [
    "#### COLLECTION\n",
    "########################################################################\n",
    "#Dữ liệu movie\n",
    "name_cols = ['movie_id', 'movie_title' ,'release date','video release date', 'IMDb URL', 'unknown', 'Action', 'Adventure',\n",
    " 'Animation', 'Children\\'s', 'Comedy', 'Crime', 'Documentary', 'Drama', 'Fantasy', 'Film-Noir', 'Horror', 'Musical', 'Mystery', 'Romance', 'Sci-Fi', 'Thriller', 'War', 'Western']\n",
    "\n",
    "movies = pd.read_csv('ml-100k/u.item', sep='|', names=name_cols, encoding='latin-1')\n",
    "movies.head()"
   ]
  },
  {
   "cell_type": "code",
   "execution_count": 3,
   "id": "fef4cc76",
   "metadata": {},
   "outputs": [
    {
     "data": {
      "text/html": [
       "<div>\n",
       "<style scoped>\n",
       "    .dataframe tbody tr th:only-of-type {\n",
       "        vertical-align: middle;\n",
       "    }\n",
       "\n",
       "    .dataframe tbody tr th {\n",
       "        vertical-align: top;\n",
       "    }\n",
       "\n",
       "    .dataframe thead th {\n",
       "        text-align: right;\n",
       "    }\n",
       "</style>\n",
       "<table border=\"1\" class=\"dataframe\">\n",
       "  <thead>\n",
       "    <tr style=\"text-align: right;\">\n",
       "      <th></th>\n",
       "      <th>user_id</th>\n",
       "      <th>movie_id</th>\n",
       "      <th>rating</th>\n",
       "      <th>unix_timestamp</th>\n",
       "    </tr>\n",
       "  </thead>\n",
       "  <tbody>\n",
       "    <tr>\n",
       "      <th>0</th>\n",
       "      <td>196</td>\n",
       "      <td>242</td>\n",
       "      <td>3</td>\n",
       "      <td>881250949</td>\n",
       "    </tr>\n",
       "    <tr>\n",
       "      <th>1</th>\n",
       "      <td>186</td>\n",
       "      <td>302</td>\n",
       "      <td>3</td>\n",
       "      <td>891717742</td>\n",
       "    </tr>\n",
       "    <tr>\n",
       "      <th>2</th>\n",
       "      <td>22</td>\n",
       "      <td>377</td>\n",
       "      <td>1</td>\n",
       "      <td>878887116</td>\n",
       "    </tr>\n",
       "    <tr>\n",
       "      <th>3</th>\n",
       "      <td>244</td>\n",
       "      <td>51</td>\n",
       "      <td>2</td>\n",
       "      <td>880606923</td>\n",
       "    </tr>\n",
       "    <tr>\n",
       "      <th>4</th>\n",
       "      <td>166</td>\n",
       "      <td>346</td>\n",
       "      <td>1</td>\n",
       "      <td>886397596</td>\n",
       "    </tr>\n",
       "  </tbody>\n",
       "</table>\n",
       "</div>"
      ],
      "text/plain": [
       "   user_id  movie_id  rating  unix_timestamp\n",
       "0      196       242       3       881250949\n",
       "1      186       302       3       891717742\n",
       "2       22       377       1       878887116\n",
       "3      244        51       2       880606923\n",
       "4      166       346       1       886397596"
      ]
     },
     "execution_count": 3,
     "metadata": {},
     "output_type": "execute_result"
    }
   ],
   "source": [
    "#Dữ liệu rating\n",
    "r_cols = ['user_id', 'movie_id', 'rating', 'unix_timestamp']\n",
    "ratings = pd.read_csv('ml-100k/u.data', sep='\\t', names=r_cols, encoding='latin-1')\n",
    "\n",
    "Y_data=ratings.values\n",
    "ratings.head()\n",
    "#print(Y_data)"
   ]
  },
  {
   "cell_type": "code",
   "execution_count": 29,
   "id": "67aac5b6",
   "metadata": {
    "collapsed": true
   },
   "outputs": [
    {
     "name": "stdout",
     "output_type": "stream",
     "text": [
      "-------------------------------------------------------MOVIES DATA TYPE------------------------------------------------------\n"
     ]
    },
    {
     "data": {
      "text/plain": [
       "movie_id                int64\n",
       "movie_title            object\n",
       "release date           object\n",
       "video release date    float64\n",
       "IMDb URL               object\n",
       "unknown                 int64\n",
       "Action                  int64\n",
       "Adventure               int64\n",
       "Animation               int64\n",
       "Children's              int64\n",
       "Comedy                  int64\n",
       "Crime                   int64\n",
       "Documentary             int64\n",
       "Drama                   int64\n",
       "Fantasy                 int64\n",
       "Film-Noir               int64\n",
       "Horror                  int64\n",
       "Musical                 int64\n",
       "Mystery                 int64\n",
       "Romance                 int64\n",
       "Sci-Fi                  int64\n",
       "Thriller                int64\n",
       "War                     int64\n",
       "Western                 int64\n",
       "dtype: object"
      ]
     },
     "execution_count": 29,
     "metadata": {},
     "output_type": "execute_result"
    }
   ],
   "source": [
    "#PREPARE\n",
    "print(\"MOVIES DATA TYPE\".center(125,'-'))\n",
    "movies.dtypes"
   ]
  },
  {
   "cell_type": "code",
   "execution_count": 30,
   "id": "c116faff",
   "metadata": {
    "collapsed": true
   },
   "outputs": [
    {
     "name": "stdout",
     "output_type": "stream",
     "text": [
      "------------------------------------------------------RATINGS DATA TYPE------------------------------------------------------\n"
     ]
    },
    {
     "data": {
      "text/plain": [
       "user_id           int64\n",
       "movie_id          int64\n",
       "rating            int64\n",
       "unix_timestamp    int64\n",
       "dtype: object"
      ]
     },
     "execution_count": 30,
     "metadata": {},
     "output_type": "execute_result"
    }
   ],
   "source": [
    "print(\"RATINGS DATA TYPE\".center(125,'-'))\n",
    "ratings.dtypes"
   ]
  },
  {
   "cell_type": "code",
   "execution_count": 47,
   "id": "193cdb85",
   "metadata": {
    "collapsed": true
   },
   "outputs": [
    {
     "data": {
      "text/plain": [
       "Text(0, 0.5, 'Số lượng phim')"
      ]
     },
     "execution_count": 47,
     "metadata": {},
     "output_type": "execute_result"
    },
    {
     "data": {
      "image/png": "[encoded data removed]",
      "text/plain": [
       "<Figure size 1440x576 with 1 Axes>"
      ]
     },
     "metadata": {
      "needs_background": "light"
     },
     "output_type": "display_data"
    }
   ],
   "source": [
    "#kiểm tra số bộ phim cho từng thể loại\n",
    "movies_types = movies[['unknown','Action', 'Adventure', 'Animation', 'Children\\'s', 'Comedy', 'Crime', 'Documentary', 'Drama',\n",
    "                  'Fantasy', 'Film-Noir', 'Horror', 'Musical', 'Mystery', 'Romance', 'Sci-Fi', 'Thriller', 'War',\n",
    "                  'Western']].sum()\n",
    "\n",
    "plt.figure(figsize=(20, 8))\n",
    "plt.bar(movies_types.index,movies_types.values)\n",
    "plt.xlabel('Thể loại', size = 15)\n",
    "plt.ylabel('Số lượng phim', size = 15)"
   ]
  },
  {
   "cell_type": "code",
   "execution_count": 52,
   "id": "099ef62e",
   "metadata": {
    "collapsed": true
   },
   "outputs": [
    {
     "name": "stdout",
     "output_type": "stream",
     "text": [
      "1     6.110\n",
      "2    11.370\n",
      "3    27.145\n",
      "4    34.174\n",
      "5    21.201\n",
      "Name: rating, dtype: float64\n"
     ]
    },
    {
     "data": {
      "text/plain": [
       "Text(0, 0.5, 'Số lượng ratings')"
      ]
     },
     "execution_count": 52,
     "metadata": {},
     "output_type": "execute_result"
    },
    {
     "data": {
      "image/png": "[encoded data removed]",
      "text/plain": [
       "<Figure size 432x288 with 1 Axes>"
      ]
     },
     "metadata": {
      "needs_background": "light"
     },
     "output_type": "display_data"
    }
   ],
   "source": [
    "rating_counts = ratings['rating'].value_counts().sort_index()\n",
    "rating_total = rating_counts.sum()\n",
    "\n",
    "rating_percentage = (rating_counts/rating_total) *100\n",
    "\n",
    "plt.bar(rating_percentage.index, rating_percentage.values)\n",
    "\n",
    "print(rating_percentage)\n",
    "plt.xlabel('Rating')\n",
    "plt.ylabel('Số lượng ratings')"
   ]
  },
  {
   "cell_type": "code",
   "execution_count": 6,
   "id": "a5b6844a",
   "metadata": {},
   "outputs": [],
   "source": [
    "movies = movies.drop('video release date', axis = 1)\n",
    "movies = movies.drop('IMDb URL', axis = 1)\n",
    "movies = movies.drop('release date', axis = 1)\n",
    "movies = movies.drop('unknown', axis = 1)\n",
    "ratings = ratings.drop('unix_timestamp', axis = 1)"
   ]
  },
  {
   "cell_type": "code",
   "execution_count": 7,
   "id": "ffc9def3",
   "metadata": {},
   "outputs": [],
   "source": [
    "###### CHOOSE và TRAIN\n",
    "#Tạo 1 class mang tên CF để huấn luyện model\n",
    "class CF(object):\n",
    "    #Hàm khởi tạo các biến\n",
    "    '''\n",
    "    Y_data là ma trận gồm 3 cột lần lượt là user_id, movie_id, rating\n",
    "    k là số điểm lân cận gần nhất mình muốn lấy để train\n",
    "    dist_func là hàm tính độ tương đồng, ở đây sử dụng hàm cosine\n",
    "    uuCF là biến xác định sử dụng theo phương thức gì: \n",
    "        user-user thì uuCF = 1\n",
    "        item-item thì uuCF = 0\n",
    "    '''\n",
    "    def __init__(self, Y_data, k, dist_func = cosine_similarity, uuCF=1):\n",
    "        self.uuCF = uuCF\n",
    "        self.Y_data = Y_data if uuCF == 1 else Y_data[:, [1, 0, 2]]\n",
    "        self.k = k\n",
    "        self.dist_func = dist_func\n",
    "        self.Ybar_data = None\n",
    "        \n",
    "        self.n_users = int(np.max(self.Y_data[:, 0])) + 1 \n",
    "        self.n_movies = int(np.max(self.Y_data[:, 1])) + 1\n",
    "        \n",
    "        \n",
    "    # Hàm update cho ma trận Y_data nếu như có thêm lượt rating mới\n",
    "    def add(self, new_data):\n",
    "        self.Y_data = np.concatenate((self.Y_data, new_data), axis = 0)\n",
    "       \n",
    "    \n",
    "    #Hàm chuẩn hóa ma trận thưa\n",
    "    def normalize_Y(self):\n",
    "        users = self.Y_data[:, 0]\n",
    "        self.Ybar_data = self.Y_data.copy()\n",
    "        self.mu = np.zeros((self.n_users,))\n",
    "        for n in range(self.n_users):\n",
    "            ids = np.where(users == n)[0].astype(np.int32)\n",
    "            item_ids = self.Y_data[ids, 1] \n",
    "            ratings = self.Y_data[ids, 2]\n",
    "            \n",
    "            m = np.mean(ratings) \n",
    "            if np.isnan(m):\n",
    "                m = 0 \n",
    "            # normalize\n",
    "            self.Ybar_data[ids, 2] = ratings - self.mu[n]\n",
    "        self.Ybar = sparse.coo_matrix((self.Ybar_data[:, 2],\n",
    "            (self.Ybar_data[:, 1], self.Ybar_data[:, 0])), (self.n_movies, self.n_users))\n",
    "        self.Ybar = self.Ybar.tocsr()\n",
    "\n",
    "    #Hàm tính độ tương đồng\n",
    "    def similarity(self):\n",
    "        self.S = self.dist_func(self.Ybar.T, self.Ybar.T)\n",
    "    \n",
    "    #Hàm chuẩn hóa lại và tính lại độ tương đồng nếu như có thêm lượt rating mới\n",
    "    def refresh(self):\n",
    "        self.normalize_Y()\n",
    "        self.similarity() \n",
    "        \n",
    "    def fit(self):\n",
    "        self.refresh()\n",
    "        \n",
    "        \n",
    "    #Hàm dự đoán    \n",
    "    def __pred(self, u, i, normalized = 1):\n",
    "        # Step 1: Tìm tất cả người dùng đã rate cho movie i\n",
    "        ids = np.where(self.Y_data[:, 1] == i)[0].astype(np.int32)\n",
    "        users_rated_i = (self.Y_data[ids, 0]).astype(np.int32)\n",
    "        # Step 2: tính độ tương đồng của người dùng muốn biết với những người dùng đã rate movie i\n",
    "        sim = self.S[u, users_rated_i]\n",
    "        # Step 4: Cho số k người dùng neigbor\n",
    "        a = np.argsort(sim)[-self.k:] \n",
    "        nearest_s = sim[a]\n",
    "        r = self.Ybar[i, users_rated_i[a]]\n",
    "        if normalized:\n",
    "            return (r*nearest_s)[0]/(np.abs(nearest_s).sum() + 1e-8)\n",
    "\n",
    "        return (r*nearest_s)[0]/(np.abs(nearest_s).sum() + 1e-8) + self.mu[u]\n",
    "    \n",
    "    \n",
    "    def pred(self, u, i, normalized = 1):\n",
    "        \"\"\" \n",
    "        Xác định cho hàm là sẽ sử dụng phương thức user-user hay là item-item\n",
    "        \"\"\"\n",
    "        if self.uuCF: return self.__pred(u, i, normalized)\n",
    "        return self.__pred(i, u, normalized)\n",
    "    \n",
    "    def recommend(self, u, normalized = 1):\n",
    "        \"\"\"\n",
    "        Xác định những bộ phim có thể đề xuất cho user (với uuCF = 0)\n",
    "        Xác định những người dùng có thể sẽ quan tâm đến movie nào đó (với uuCF =)\n",
    "        \"\"\"\n",
    "        ids = np.where(self.Y_data[:, 0] == u)[0]\n",
    "        movies_rated_by_u = self.Y_data[ids, 1].tolist()              \n",
    "        recommended_movies = []\n",
    "        for i in range(self.n_movies):\n",
    "            if i not in movies_rated_by_u:\n",
    "                rating = self.__pred(u, i)\n",
    "                if rating > 0: \n",
    "                    recommended_movies.append(i)\n",
    "        \n",
    "        return recommended_movies \n",
    "    \n",
    "    \n",
    "    def recommend_top(self, u, top_x):\n",
    "        \"\"\"\n",
    "        Tìm top 10 bộ phim gần nhất có thể recommend cho một user\n",
    "        mà những bộ phim đó là những bộ mà user đó chưa từng rating\n",
    "        \"\"\"\n",
    "        ids = np.where(self.Y_data[:, 1] == u)[0]\n",
    "        items_rated_by_u = self.Y_data[ids, 0].tolist()\n",
    "        item = {'id': None, 'similar': None}\n",
    "        list_items = []\n",
    "\n",
    "        def take_similar(elem):\n",
    "            return elem['similar']\n",
    "\n",
    "        for i in range(self.n_movies):\n",
    "            if i not in items_rated_by_u:\n",
    "                rating = self.pred(u, i)\n",
    "                item['id'] = i\n",
    "                item['similar'] = rating\n",
    "                list_items.append(item.copy())\n",
    "\n",
    "        sorted_items = sorted(list_items, key=take_similar, reverse=True)[:top_x]\n",
    "        return sorted_items\n"
   ]
  },
  {
   "cell_type": "code",
   "execution_count": 8,
   "id": "cbf7e366",
   "metadata": {},
   "outputs": [],
   "source": [
    "#Chia tập dữ liệu 80 train, 20 test\n",
    "train_data, test_data = train_test_split(Y_data, test_size=0.2, random_state=0)"
   ]
  },
  {
   "cell_type": "code",
   "execution_count": 9,
   "id": "f3f3ea06",
   "metadata": {},
   "outputs": [
    {
     "name": "stderr",
     "output_type": "stream",
     "text": [
      "C:\\ProgramData\\Anaconda3\\lib\\site-packages\\numpy\\core\\fromnumeric.py:3440: RuntimeWarning: Mean of empty slice.\n",
      "  return _methods._mean(a, axis=axis, dtype=dtype,\n",
      "C:\\ProgramData\\Anaconda3\\lib\\site-packages\\numpy\\core\\_methods.py:189: RuntimeWarning: invalid value encountered in double_scalars\n",
      "  ret = ret.dtype.type(ret / rcount)\n"
     ]
    },
    {
     "name": "stdout",
     "output_type": "stream",
     "text": [
      "User-user CF, RMSE = 1.024783532828137\n"
     ]
    }
   ],
   "source": [
    "\n",
    "rs_user = CF(train_data, k = 30, uuCF = 1)\n",
    "rs_user.fit()\n",
    "\n",
    "n_tests = test_data.shape[0]\n",
    "SE = 0 # squared error\n",
    "for n in range(n_tests):\n",
    "    pred = rs_user.pred(test_data[n, 0], test_data[n, 1], normalized = 0)\n",
    "    SE += (pred - test_data[n, 2])**2 \n",
    "\n",
    "RMSE = np.sqrt(SE/n_tests)\n",
    "print('User-user CF, RMSE =', RMSE)\n"
   ]
  },
  {
   "cell_type": "code",
   "execution_count": 11,
   "id": "6ff83c64",
   "metadata": {},
   "outputs": [
    {
     "name": "stdout",
     "output_type": "stream",
     "text": [
      "Item-item CF, RMSE = 0.9840957127910445\n"
     ]
    }
   ],
   "source": [
    "rs_item = CF(train_data, k = 30, uuCF = 0)\n",
    "rs_item.fit()\n",
    "\n",
    "n_tests = test_data.shape[0]\n",
    "SE = 0 # squared error\n",
    "for n in range(n_tests):\n",
    "    pred = rs_item.pred(test_data[n, 0], test_data[n, 1], normalized = 0)\n",
    "    SE += (pred - test_data[n, 2])**2 \n",
    "\n",
    "RMSE = np.sqrt(SE/n_tests)\n",
    "print ('Item-item CF, RMSE =', RMSE)"
   ]
  },
  {
   "cell_type": "code",
   "execution_count": 12,
   "id": "e4fe758a",
   "metadata": {},
   "outputs": [
    {
     "name": "stdout",
     "output_type": "stream",
     "text": [
      "Có thể bạn sẽ thích những bộ phim này đấy:                                  movie_title\n",
      "17                White Balloon, The (1995)\n",
      "118  Maya Lin: A Strong Clear Vision (1994)\n",
      "295                     Promesse, La (1996)\n",
      "438     Amityville: A New Generation (1993)\n",
      "642                     The Innocent (1994)\n",
      "756           Across the Sea of Time (1995)\n",
      "776                     Castle Freak (1995)\n",
      "787                    Relative Fear (1994)\n",
      "834                Gay Divorcee, The (1934)\n",
      "919                         Two Bits (1995)\n"
     ]
    }
   ],
   "source": [
    "user_id_to_recommend = 400  # Đổi giá trị này thành ID người dùng bạn muốn đề xuất\n",
    "top_recommendations = rs_item.recommend_top(user_id_to_recommend, top_x=10)\n",
    "\n",
    "# Lấy danh sách các item được đề xuất\n",
    "recommended_item_ids = [item['id'] for item in top_recommendations]\n",
    "\n",
    "# In thông tin về các bộ phim được đề xuất\n",
    "recommended_movies_info = movies[movies['movie_id'].isin(recommended_item_ids)]\n",
    "print('Có thể bạn sẽ thích những bộ phim này đấy: ',recommended_movies_info[['movie_title']])"
   ]
  },
  {
   "cell_type": "code",
   "execution_count": null,
   "id": "50e06aa8",
   "metadata": {},
   "outputs": [],
   "source": []
  }
 ],
 "metadata": {
  "kernelspec": {
   "display_name": "Python 3 (ipykernel)",
   "language": "python",
   "name": "python3"
  },
  "language_info": {
   "codemirror_mode": {
    "name": "ipython",
    "version": 3
   },
   "file_extension": ".py",
   "mimetype": "text/x-python",
   "name": "python",
   "nbconvert_exporter": "python",
   "pygments_lexer": "ipython3",
   "version": "3.9.12"
  }
 },
 "nbformat": 4,
 "nbformat_minor": 5
}
